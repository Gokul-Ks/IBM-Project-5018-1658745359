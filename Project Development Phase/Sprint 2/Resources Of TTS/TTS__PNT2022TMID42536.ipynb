{
  "cells": [
    {
      "cell_type": "markdown",
      "source": [
        "##Personal Assistance For Seniors Who Are Self-Reliant\n",
        "\n",
        "Team ID : PNT2022TMID42536"
      ],
      "metadata": {
        "id": "eq0GrlK4P6HC"
      }
    },
    {
      "cell_type": "code",
      "execution_count": 2,
      "metadata": {
        "colab": {
          "base_uri": "https://localhost:8080/",
          "height": 0
        },
        "id": "AhwIyUQ8Or65",
        "outputId": "4dd46ef7-c991-4a54-d281-259f3d874f97"
      },
      "outputs": [
        {
          "output_type": "stream",
          "name": "stdout",
          "text": [
            "Looking in indexes: https://pypi.org/simple, https://us-python.pkg.dev/colab-wheels/public/simple/\n",
            "Collecting ibm-watson>=6.1.0\n",
            "  Downloading ibm-watson-6.1.0.tar.gz (373 kB)\n",
            "\u001b[K     |████████████████████████████████| 373 kB 31.4 MB/s \n",
            "\u001b[?25h  Installing build dependencies ... \u001b[?25l\u001b[?25hdone\n",
            "  Getting requirements to build wheel ... \u001b[?25l\u001b[?25hdone\n",
            "    Preparing wheel metadata ... \u001b[?25l\u001b[?25hdone\n",
            "Requirement already satisfied: requests<3.0,>=2.0 in /usr/local/lib/python3.7/dist-packages (from ibm-watson>=6.1.0) (2.23.0)\n",
            "Collecting websocket-client==1.1.0\n",
            "  Downloading websocket_client-1.1.0-py2.py3-none-any.whl (68 kB)\n",
            "\u001b[K     |████████████████████████████████| 68 kB 7.0 MB/s \n",
            "\u001b[?25hRequirement already satisfied: python-dateutil>=2.5.3 in /usr/local/lib/python3.7/dist-packages (from ibm-watson>=6.1.0) (2.8.2)\n",
            "Collecting ibm-cloud-sdk-core==3.*,>=3.3.6\n",
            "  Downloading ibm_cloud_sdk_core-3.16.0-py3-none-any.whl (83 kB)\n",
            "\u001b[K     |████████████████████████████████| 83 kB 2.3 MB/s \n",
            "\u001b[?25hCollecting urllib3<2.0.0,>=1.26.0\n",
            "  Downloading urllib3-1.26.12-py2.py3-none-any.whl (140 kB)\n",
            "\u001b[K     |████████████████████████████████| 140 kB 56.9 MB/s \n",
            "\u001b[?25hCollecting requests<3.0,>=2.0\n",
            "  Downloading requests-2.28.1-py3-none-any.whl (62 kB)\n",
            "\u001b[K     |████████████████████████████████| 62 kB 1.6 MB/s \n",
            "\u001b[?25hCollecting PyJWT<3.0.0,>=2.4.0\n",
            "  Downloading PyJWT-2.6.0-py3-none-any.whl (20 kB)\n",
            "Requirement already satisfied: six>=1.5 in /usr/local/lib/python3.7/dist-packages (from python-dateutil>=2.5.3->ibm-watson>=6.1.0) (1.15.0)\n",
            "Requirement already satisfied: charset-normalizer<3,>=2 in /usr/local/lib/python3.7/dist-packages (from requests<3.0,>=2.0->ibm-watson>=6.1.0) (2.1.1)\n",
            "Requirement already satisfied: certifi>=2017.4.17 in /usr/local/lib/python3.7/dist-packages (from requests<3.0,>=2.0->ibm-watson>=6.1.0) (2022.9.24)\n",
            "Requirement already satisfied: idna<4,>=2.5 in /usr/local/lib/python3.7/dist-packages (from requests<3.0,>=2.0->ibm-watson>=6.1.0) (2.10)\n",
            "Building wheels for collected packages: ibm-watson\n",
            "  Building wheel for ibm-watson (PEP 517) ... \u001b[?25l\u001b[?25hdone\n",
            "  Created wheel for ibm-watson: filename=ibm_watson-6.1.0-py3-none-any.whl size=370764 sha256=66613280dafc0cd1c0ddd49d500de984e4ef70ce1b49c8e21975d157ffbca45b\n",
            "  Stored in directory: /root/.cache/pip/wheels/88/69/f3/3e30b078dc358148c52edb76dfa50ab1460f44f440306a8069\n",
            "Successfully built ibm-watson\n",
            "Installing collected packages: urllib3, requests, PyJWT, websocket-client, ibm-cloud-sdk-core, ibm-watson\n",
            "  Attempting uninstall: urllib3\n",
            "    Found existing installation: urllib3 1.24.3\n",
            "    Uninstalling urllib3-1.24.3:\n",
            "      Successfully uninstalled urllib3-1.24.3\n",
            "  Attempting uninstall: requests\n",
            "    Found existing installation: requests 2.23.0\n",
            "    Uninstalling requests-2.23.0:\n",
            "      Successfully uninstalled requests-2.23.0\n",
            "Successfully installed PyJWT-2.6.0 ibm-cloud-sdk-core-3.16.0 ibm-watson-6.1.0 requests-2.28.1 urllib3-1.26.12 websocket-client-1.1.0\n"
          ]
        }
      ],
      "source": [
        "pip install --upgrade \"ibm-watson>=6.1.0\""
      ]
    },
    {
      "cell_type": "code",
      "execution_count": 3,
      "metadata": {
        "id": "jRFQE6vDO2SJ"
      },
      "outputs": [],
      "source": [
        "from ibm_watson import TextToSpeechV1\n",
        "from ibm_cloud_sdk_core.authenticators import IAMAuthenticator\n",
        "\n",
        "authenticator = IAMAuthenticator('ybW5L7XKtrYn47GWjKNo2vG3teltpl9bc6LeHh0bV2S3')\n",
        "text_to_speech = TextToSpeechV1(\n",
        "    authenticator=authenticator\n",
        ")\n",
        "\n",
        "text_to_speech.set_service_url('https://api.au-syd.text-to-speech.watson.cloud.ibm.com/instances/98528c16-2a4f-414e-ba24-64d3472d69d8')\n",
        "\n",
        "with open('PASWASR.wav', 'wb') as audio_file:\n",
        "    audio_file.write(\n",
        "        text_to_speech.synthesize(\n",
        "            'Just a sample audio file for the TTS service going to be created for our project !',\n",
        "            voice='en-US_AllisonV3Voice',\n",
        "            accept='audio/wav'        \n",
        "        ).get_result().content)"
      ]
    }
  ],
  "metadata": {
    "colab": {
      "collapsed_sections": [],
      "provenance": []
    },
    "kernelspec": {
      "display_name": "Python 3",
      "name": "python3"
    },
    "language_info": {
      "name": "python"
    }
  },
  "nbformat": 4,
  "nbformat_minor": 0
}